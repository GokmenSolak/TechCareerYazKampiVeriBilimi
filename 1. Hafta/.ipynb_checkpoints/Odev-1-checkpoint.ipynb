{
 "cells": [
  {
   "cell_type": "markdown",
   "id": "637b307c-abbd-4c3c-a01d-a14e5a671527",
   "metadata": {},
   "source": [
    "# 1. Kullanıcıdan ad, yaş ve boy bilgisi alma"
   ]
  },
  {
   "cell_type": "code",
   "execution_count": 2,
   "id": "5e769a6d-6b62-4c42-864e-efe9a057d10b",
   "metadata": {},
   "outputs": [
    {
     "name": "stdin",
     "output_type": "stream",
     "text": [
      "Adınızı giriniz:  Gökmen\n",
      "Yaşınızı giriniz:  19\n",
      "Boyunuzu metre cinsinden giriniz:  1.80\n"
     ]
    },
    {
     "name": "stdout",
     "output_type": "stream",
     "text": [
      "Merhaba Gökmen 19 yaşındasınız 1.8  metre boyundasınız.\n"
     ]
    }
   ],
   "source": [
    "ad = input(\"Adınızı giriniz: \")\n",
    "yas = int(input(\"Yaşınızı giriniz: \"))\n",
    "boy = float(input(\"Boyunuzu metre cinsinden giriniz: \"))\n",
    "print(\"Merhaba\", ad , yas , \"yaşındasınız\" , boy , \"metre boyundasınız.\")"
   ]
  },
  {
   "cell_type": "markdown",
   "id": "e0c3e718-4d44-451a-9b12-b9ae1d1c8cff",
   "metadata": {},
   "source": [
    "# 2. Öğrenci not ortalaması"
   ]
  },
  {
   "cell_type": "code",
   "execution_count": 6,
   "id": "da916133-4905-4472-8ce6-26345ae2480d",
   "metadata": {},
   "outputs": [
    {
     "name": "stdin",
     "output_type": "stream",
     "text": [
      "Matematik notunuzu giriniz:  60\n",
      "Fizik notunuzu giriniz:  80\n",
      "Kimya notunuzu giriniz:  70\n"
     ]
    },
    {
     "name": "stdout",
     "output_type": "stream",
     "text": [
      "Ortalamanız:  70.0\n"
     ]
    }
   ],
   "source": [
    "mat = int(input(\"Matematik notunuzu giriniz: \"))\n",
    "fiz = int(input(\"Fizik notunuzu giriniz: \"))\n",
    "kim = int(input(\"Kimya notunuzu giriniz: \"))\n",
    "ortalama = (mat + fiz + kim) / 3\n",
    "print(\"Ortalamanız: \", ortalama)"
   ]
  },
  {
   "cell_type": "markdown",
   "id": "c7eca54e-b6fd-4563-8266-332b39aebf07",
   "metadata": {},
   "source": [
    "# 3. String işlemleri"
   ]
  },
  {
   "cell_type": "code",
   "execution_count": 8,
   "id": "e22e976e-d114-404b-aa34-c514890ed8fe",
   "metadata": {},
   "outputs": [
    {
     "name": "stdout",
     "output_type": "stream",
     "text": [
      "İlk karakter: T\n",
      "Son karakter: ı\n",
      "Uzunluğu: 18\n",
      "Ters çevrilmiş hali: ıpmaKzaYreeraChceT\n"
     ]
    }
   ],
   "source": [
    "metin = \"TechCareerYazKampı\"\n",
    "print(\"İlk karakter:\", metin[0])\n",
    "print(\"Son karakter:\", metin[-1])\n",
    "print(\"Uzunluğu:\", len(metin))\n",
    "print(\"Ters çevrilmiş hali:\", metin[::-1])"
   ]
  },
  {
   "cell_type": "markdown",
   "id": "e328287e-ec5a-474a-bb90-56fd4a07ea76",
   "metadata": {},
   "source": [
    "# 4. Aritmetik işlemler"
   ]
  },
  {
   "cell_type": "code",
   "execution_count": 10,
   "id": "fd7518b9-2109-4326-971d-dc5037cc0f8f",
   "metadata": {},
   "outputs": [
    {
     "name": "stdin",
     "output_type": "stream",
     "text": [
      "Birinci sayıyı giriniz:  10\n",
      "İkinci sayıyı giriniz:  5\n"
     ]
    },
    {
     "name": "stdout",
     "output_type": "stream",
     "text": [
      "Toplama:  15\n",
      "Çıkarma:  5\n",
      "Çarpma:  50\n",
      "Bölme:  2.0\n",
      "Mod:  0\n"
     ]
    }
   ],
   "source": [
    "sayi1 = int(input(\"Birinci sayıyı giriniz: \"))\n",
    "sayi2 = int(input(\"İkinci sayıyı giriniz: \"))\n",
    "print(\"Toplama: \", sayi1 + sayi2)\n",
    "print(\"Çıkarma: \", sayi1 - sayi2)\n",
    "print(\"Çarpma: \", sayi1 * sayi2)\n",
    "print(\"Bölme: \", sayi1 / sayi2)\n",
    "print(\"Mod: \", sayi1 % sayi2)"
   ]
  },
  {
   "cell_type": "markdown",
   "id": "d2b49689-4cba-4c06-82eb-0642100f1a0f",
   "metadata": {},
   "source": [
    "# 5. Ortalama kontrolü"
   ]
  },
  {
   "cell_type": "code",
   "execution_count": 14,
   "id": "587748e4-91dc-4a2e-958d-1cab386e53ef",
   "metadata": {},
   "outputs": [
    {
     "name": "stdin",
     "output_type": "stream",
     "text": [
      "Ortalamanızı girniz:  30\n"
     ]
    },
    {
     "name": "stdout",
     "output_type": "stream",
     "text": [
      "Kaldı\n"
     ]
    }
   ],
   "source": [
    "ortalama = float(input(\"Ortalamanızı girniz: \"))\n",
    "if ortalama > 50:\n",
    "    print(\"Geçti\")\n",
    "else:\n",
    "    print(\"Kaldı\")"
   ]
  },
  {
   "cell_type": "markdown",
   "id": "209ca637-3a09-4a46-b7b5-a2127213dc9d",
   "metadata": {},
   "source": [
    "# 6. Ehliyet kontrolü"
   ]
  },
  {
   "cell_type": "code",
   "execution_count": 15,
   "id": "3f39ad5c-921a-4c85-9abc-9537f82bfa91",
   "metadata": {},
   "outputs": [
    {
     "name": "stdin",
     "output_type": "stream",
     "text": [
      "Yaşınızı giriniz:  19\n"
     ]
    },
    {
     "name": "stdout",
     "output_type": "stream",
     "text": [
      "Ehliyet alabilirsiniz\n"
     ]
    }
   ],
   "source": [
    "yas = int(input(\"Yaşınızı giriniz: \"))\n",
    "if yas > 18:\n",
    "    print(\"Ehliyet alabilirsiniz\")\n",
    "else:\n",
    "    print(\"Ehliyet alamazsınız\")"
   ]
  },
  {
   "cell_type": "markdown",
   "id": "97e46c7c-1de5-4175-88db-d66397e7afb5",
   "metadata": {},
   "source": [
    "# 7. İndirimli fiyat hesaplama"
   ]
  },
  {
   "cell_type": "code",
   "execution_count": 16,
   "id": "fc091141-ad84-445d-ab6f-875ee1d36ae4",
   "metadata": {},
   "outputs": [
    {
     "name": "stdin",
     "output_type": "stream",
     "text": [
      "Ürünün fiyatını giriniz:  100\n",
      "İndirim oranını giriniz (%):  50\n"
     ]
    },
    {
     "name": "stdout",
     "output_type": "stream",
     "text": [
      "İndirimli fiyat:  50.0\n"
     ]
    }
   ],
   "source": [
    "fiyat = float(input(\"Ürünün fiyatını giriniz: \"))\n",
    "indirim = float(input(\"İndirim oranını giriniz (%): \"))\n",
    "\n",
    "indirimli_fiyat = fiyat - (fiyat*indirim / 100)\n",
    "print(\"İndirimli fiyat: \", indirimli_fiyat)"
   ]
  },
  {
   "cell_type": "markdown",
   "id": "cc8a26b7-adda-4d4f-aa53-e22cd13fbca5",
   "metadata": {},
   "source": [
    "# 8. Mantıksal operatörler"
   ]
  },
  {
   "cell_type": "code",
   "execution_count": 17,
   "id": "56527068-fa83-462d-9b55-94151fd6578f",
   "metadata": {},
   "outputs": [
    {
     "name": "stdout",
     "output_type": "stream",
     "text": [
      "a and b: False\n",
      "a or b: True\n",
      "not a: False\n",
      "not b: True\n"
     ]
    }
   ],
   "source": [
    "a = True\n",
    "b = False\n",
    "print(\"a and b:\", a and b)\n",
    "print(\"a or b:\", a or b)\n",
    "print(\"not a:\", not a)\n",
    "print(\"not b:\", not b)"
   ]
  },
  {
   "cell_type": "markdown",
   "id": "2f73047a-0fd5-4ec3-9452-92982676e729",
   "metadata": {},
   "source": [
    "# 9. Alışveriş sepeti"
   ]
  },
  {
   "cell_type": "code",
   "execution_count": 21,
   "id": "74a3ce7b-5e0b-49f3-9990-b0707a7a1c0c",
   "metadata": {},
   "outputs": [
    {
     "name": "stdin",
     "output_type": "stream",
     "text": [
      "1. Ürünün fiyatını giriniz:  30\n",
      "2. Ürünün fiyatını giriniz:  30\n",
      "3. Ürünün fiyatını giriniz:  40\n"
     ]
    },
    {
     "name": "stdout",
     "output_type": "stream",
     "text": [
      "Ödemeniz gereken tutar:  100.0 TL\n"
     ]
    }
   ],
   "source": [
    "urun1 = float(input(\"1. Ürünün fiyatını giriniz: \"))\n",
    "urun2 = float(input(\"2. Ürünün fiyatını giriniz: \"))\n",
    "urun3 = float(input(\"3. Ürünün fiyatını giriniz: \"))\n",
    "toplam_fiyat = urun1 + urun2 + urun3\n",
    "if toplam_fiyat > 200:\n",
    "    toplam_fiyat = toplam_fiyat * 0.9\n",
    "    print(\"Ürünlerinizin ücreti 200'den fazla olduğu için %10 indirim uygulandı ödemeniz gereken tutar: \", toplam_fiyat, \"TL\")\n",
    "else:\n",
    "    print(\"Ödemeniz gereken tutar: \", toplam_fiyat, \"TL\")"
   ]
  },
  {
   "cell_type": "markdown",
   "id": "953cb018-74cf-4e20-944b-dead05ba76b2",
   "metadata": {},
   "source": [
    "# 10. Yaş hesaplama ve sınıflandırma"
   ]
  },
  {
   "cell_type": "code",
   "execution_count": 22,
   "id": "366a461b-3762-4b96-9e2f-45ca5dadad5c",
   "metadata": {},
   "outputs": [
    {
     "name": "stdin",
     "output_type": "stream",
     "text": [
      "Doğduğunuz yılı yazınız:  2005\n"
     ]
    },
    {
     "name": "stdout",
     "output_type": "stream",
     "text": [
      "Yetişkinsiniz\n"
     ]
    }
   ],
   "source": [
    "dogum_yili = int(input(\"Doğduğunuz yılı yazınız: \"))\n",
    "guncel_yil = 2025\n",
    "yas = guncel_yil - dogum_yili\n",
    "\n",
    "if 0 < yas <= 12:\n",
    "    print(\"Çocuksunuz\")\n",
    "elif 13 <= yas <= 17:\n",
    "    print(\"Ergensiniz\")\n",
    "else:\n",
    "    print(\"Yetişkinsiniz\")"
   ]
  }
 ],
 "metadata": {
  "kernelspec": {
   "display_name": "Python 3 (ipykernel)",
   "language": "python",
   "name": "python3"
  },
  "language_info": {
   "codemirror_mode": {
    "name": "ipython",
    "version": 3
   },
   "file_extension": ".py",
   "mimetype": "text/x-python",
   "name": "python",
   "nbconvert_exporter": "python",
   "pygments_lexer": "ipython3",
   "version": "3.12.7"
  }
 },
 "nbformat": 4,
 "nbformat_minor": 5
}
