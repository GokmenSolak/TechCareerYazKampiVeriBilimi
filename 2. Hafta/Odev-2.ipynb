{
 "cells": [
  {
   "cell_type": "code",
   "execution_count": null,
   "id": "1d083ba1-b31f-4822-8557-d0057d1db8ba",
   "metadata": {},
   "outputs": [],
   "source": []
  }
 ],
 "metadata": {
  "kernelspec": {
   "display_name": "",
   "name": ""
  },
  "language_info": {
   "name": ""
  }
 },
 "nbformat": 4,
 "nbformat_minor": 5
}
