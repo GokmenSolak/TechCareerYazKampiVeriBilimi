{
 "cells": [
  {
   "cell_type": "markdown",
   "id": "4b02e3a6-a1b7-4527-93a8-404089d3200f",
   "metadata": {},
   "source": [
    "## 1. Liste Metodları"
   ]
  },
  {
   "cell_type": "code",
   "execution_count": 51,
   "id": "2c617920-60d3-409b-8239-781631bf59e8",
   "metadata": {},
   "outputs": [
    {
     "name": "stdout",
     "output_type": "stream",
     "text": [
      "[100, 92, 85, 76]\n",
      "En yüksek not: 100\n",
      "En düşük not: 76\n",
      "Sıralı: [76, 85, 92, 100]\n"
     ]
    }
   ],
   "source": [
    "def not_islemleri():\n",
    "    notlar = [85, 92, 76, 92, 100, 76, 85, 92]\n",
    "    \n",
    "    new_list = list(set(notlar))\n",
    "\n",
    "    print(new_list)\n",
    "    print(f\"En yüksek not: {max(notlar)}\")\n",
    "    print(f\"En düşük not: {min(notlar)}\")\n",
    "    print(f\"Sıralı: {sorted(new_list)}\")\n",
    "\n",
    "not_islemleri()"
   ]
  },
  {
   "cell_type": "markdown",
   "id": "dfc11283-dcc9-4473-8ffc-27ba94e6844a",
   "metadata": {},
   "source": [
    "## 2. Armstrong Sayısı"
   ]
  },
  {
   "cell_type": "code",
   "execution_count": 52,
   "id": "c7bda1ae-8892-4417-b5a7-0c2a46038a6c",
   "metadata": {},
   "outputs": [
    {
     "name": "stdin",
     "output_type": "stream",
     "text": [
      "Bir sayı giriniz:  407\n"
     ]
    },
    {
     "name": "stdout",
     "output_type": "stream",
     "text": [
      "Sayınız armstrong sayıdır.\n"
     ]
    }
   ],
   "source": [
    "def armstrong_kontrol():\n",
    "    sayi = int(input(\"Bir sayı giriniz: \"))\n",
    "    toplam = sum(int(h)**3 for h in str(sayi))\n",
    "\n",
    "    if toplam == sayi:\n",
    "        print(\"Sayınız armstrong sayıdır.\")\n",
    "    else:\n",
    "        print(\"Sayınız armstrog sayı değildir.\")\n",
    "\n",
    "armstrong_kontrol()"
   ]
  },
  {
   "cell_type": "markdown",
   "id": "23cfbf00-b740-4ded-aae1-7447d0801b39",
   "metadata": {},
   "source": [
    "## 3. Küme İşlemleri"
   ]
  },
  {
   "cell_type": "code",
   "execution_count": 53,
   "id": "0ce04bcf-865a-4e9c-9f1f-22f82ad9df5e",
   "metadata": {},
   "outputs": [
    {
     "name": "stdout",
     "output_type": "stream",
     "text": [
      "Ortak:  {'Python', 'SQL'}\n",
      "Sadece A kümesinde olanlar:  {'R', 'Java'}\n",
      "Alfabetik olarak birleşimleri:  ['C++', 'Java', 'JavaScript', 'Python', 'R', 'SQL']\n"
     ]
    }
   ],
   "source": [
    "def kume_islemleri():\n",
    "    A = {\"Python\", \"R\", \"SQL\", \"Java\"}\n",
    "    B = {\"C++\", \"Python\", \"JavaScript\", \"SQL\"}\n",
    "\n",
    "    print(\"Ortak: \", A & B)\n",
    "    print(\"Sadece A kümesinde olanlar: \", A - B)\n",
    "    print(\"Alfabetik olarak birleşimleri: \", sorted(A | B))\n",
    "\n",
    "kume_islemleri()"
   ]
  },
  {
   "cell_type": "markdown",
   "id": "76f29d8f-c0be-4982-ae8f-d29fe5111da2",
   "metadata": {},
   "source": [
    "## 4. Modüller"
   ]
  },
  {
   "cell_type": "code",
   "execution_count": 54,
   "id": "01b8eede-6d91-4dff-b6a0-5404af1cb637",
   "metadata": {},
   "outputs": [
    {
     "name": "stdout",
     "output_type": "stream",
     "text": [
      "Sayılar:  [54, 93, 30, 1, 3, 37, 14, 92, 66, 29]\n",
      "Ortalama:  41.9\n",
      "Standart sapma:  31.85105963700423\n"
     ]
    }
   ],
   "source": [
    "import random, statistics\n",
    "\n",
    "sayilar = [random.randint(1, 100) for _ in range(10)]\n",
    "\n",
    "print(\"Sayılar: \", sayilar)\n",
    "print(\"Ortalama: \", statistics.mean(sayilar))\n",
    "print(\"Standart sapma: \", statistics.pstdev(sayilar))"
   ]
  },
  {
   "cell_type": "markdown",
   "id": "b564c32d-df44-4190-801a-ddd75961c65c",
   "metadata": {},
   "source": [
    "## 5. Fonskiyonlar"
   ]
  },
  {
   "cell_type": "code",
   "execution_count": 55,
   "id": "4019e5de-9883-4bd3-8c93-a3a40f4d1b69",
   "metadata": {},
   "outputs": [
    {
     "name": "stdout",
     "output_type": "stream",
     "text": [
      "Toplam kelime sayısı:  10\n",
      "En uzun kelime:  TechCareer\n",
      "En sık geçen kelime:  çok\n"
     ]
    }
   ],
   "source": [
    "def kelime_sayaci(metin):\n",
    "    kelime_sayisi = metin.split()\n",
    "    toplam_kelime = len(kelime_sayisi)\n",
    "    en_uzun_kelime = max(kelime_sayisi, key = len)\n",
    "    en_çok_kelime = max(set(kelime_sayisi), key = kelime_sayisi.count)\n",
    "\n",
    "    print(\"Toplam kelime sayısı: \", toplam_kelime)\n",
    "    print(\"En uzun kelime: \", en_uzun_kelime)\n",
    "    print(\"En sık geçen kelime: \", en_çok_kelime)\n",
    "\n",
    "kelime_sayaci(\"TechCareer Veri Bilimi Yaz Kampı çok ama çok verimli ilerliyor\")"
   ]
  },
  {
   "cell_type": "markdown",
   "id": "5188906f-d70f-462e-964f-0c84382bb0db",
   "metadata": {},
   "source": [
    "## 6. Gömülü Fonksiyonlar"
   ]
  },
  {
   "cell_type": "code",
   "execution_count": 56,
   "id": "507d25f2-4082-4d9c-ac90-dc106c09862a",
   "metadata": {},
   "outputs": [
    {
     "name": "stdout",
     "output_type": "stream",
     "text": [
      "Çiftler: [12, 18, 24, 16]\n",
      "Kareler: [144, 324, 576, 256]\n",
      "Azalan kareler: [576, 324, 256, 144]\n"
     ]
    }
   ],
   "source": [
    "sayilar = [5, 12, 7, 18, 24, 3, 16]\n",
    "\n",
    "ciftler = list(filter(lambda x: x%2 == 0, sayilar))\n",
    "kareleri = list(map(lambda x: x**2, ciftler))\n",
    "siralama = sorted(kareleri, reverse = True)\n",
    "\n",
    "print(\"Çiftler:\", ciftler)\n",
    "print(\"Kareler:\", kareleri)\n",
    "print(\"Azalan kareler:\", siralama)"
   ]
  },
  {
   "cell_type": "markdown",
   "id": "6669db5f-85ee-4978-807e-f90fb7ee0b5a",
   "metadata": {},
   "source": [
    "## 7. Lambda İfadeleri"
   ]
  },
  {
   "cell_type": "code",
   "execution_count": 57,
   "id": "5f8397d0-c429-4882-be9b-485ee2877e71",
   "metadata": {},
   "outputs": [
    {
     "name": "stdout",
     "output_type": "stream",
     "text": [
      "['veri', 'bilim', 'analiz', 'python', 'yapayzeka']\n"
     ]
    }
   ],
   "source": [
    "kelimeler = [\"veri\", \"bilim\", \"analiz\", \"yapayzeka\", \"python\"]\n",
    "\n",
    "print(sorted(kelimeler, key = lambda x: len(x)))"
   ]
  },
  {
   "cell_type": "markdown",
   "id": "1a09ef14-06ab-4665-8f84-588c34b66df8",
   "metadata": {},
   "source": [
    "## 8. Metodlar"
   ]
  },
  {
   "cell_type": "code",
   "execution_count": 58,
   "id": "98b76cb3-14f9-4292-93dc-2be8079ae5c5",
   "metadata": {},
   "outputs": [
    {
     "name": "stdout",
     "output_type": "stream",
     "text": [
      "Sayılar toplamı:  20\n"
     ]
    }
   ],
   "source": [
    "def rakam_toplam(metin):\n",
    "    islem = sum(int(c) for c in metin if c.isdigit())\n",
    "    print(\"Sayılar toplamı: \", islem)\n",
    "\n",
    "rakam_toplam(\"abc8d3ef9\")"
   ]
  },
  {
   "cell_type": "markdown",
   "id": "78c391cb-6fb9-4b26-b45c-e98d58b643f0",
   "metadata": {},
   "source": [
    "## 9. Numpy 1"
   ]
  },
  {
   "cell_type": "code",
   "execution_count": 59,
   "id": "dd2a684a-4d2f-4a84-9e8a-7ad7c16e5f2b",
   "metadata": {},
   "outputs": [
    {
     "name": "stdout",
     "output_type": "stream",
     "text": [
      "Dizi:  [41  6 15 13  4 17 12 11 29 37]\n",
      "Ortalama:  18.5\n",
      "Standart sapma:  12.118168178400563\n",
      "En büyük değer:  41\n"
     ]
    }
   ],
   "source": [
    "import numpy as np\n",
    "\n",
    "numpy_dizisi = np.random.randint(0,50,10)\n",
    "print(\"Dizi: \", numpy_dizisi)\n",
    "print(\"Ortalama: \", numpy_dizisi.mean())\n",
    "print(\"Standart sapma: \", numpy_dizisi.std())\n",
    "print(\"En büyük değer: \", numpy_dizisi.max())"
   ]
  },
  {
   "cell_type": "markdown",
   "id": "e9e46d50-a33b-4c93-ae12-645a66133d4c",
   "metadata": {},
   "source": [
    "## 10. Numpy 2"
   ]
  },
  {
   "cell_type": "code",
   "execution_count": 60,
   "id": "8f8727af-39a4-4a97-910f-89b9bb7d2ca5",
   "metadata": {},
   "outputs": [
    {
     "name": "stdout",
     "output_type": "stream",
     "text": [
      "Matris:\n",
      " [[0.38700084 0.51831259 0.39003514 0.09900672 0.9500482 ]\n",
      " [0.38122211 0.52767196 0.99782712 0.99671686 0.68303755]\n",
      " [0.17241278 0.1238638  0.30790227 0.05930681 0.57953843]\n",
      " [0.6367136  0.50781489 0.52536204 0.82131249 0.02907944]\n",
      " [0.61177445 0.75674182 0.78289467 0.65381774 0.96982371]]\n",
      "[0.43782476 0.48688101 0.60080425 0.52603213 0.64230547]\n",
      "Binary matris:\n",
      " [[0 1 0 0 1]\n",
      " [0 1 1 1 1]\n",
      " [0 0 0 0 1]\n",
      " [1 1 1 1 0]\n",
      " [1 1 1 1 1]]\n"
     ]
    }
   ],
   "source": [
    "matris = np.random.rand(5,5)\n",
    "print(\"Matris:\\n\", matris)\n",
    "print(matris.mean(axis = 0))\n",
    "\n",
    "binary = np.where(matris > 0.5 , 1, 0)\n",
    "print(\"Binary matris:\\n\", binary)"
   ]
  }
 ],
 "metadata": {
  "kernelspec": {
   "display_name": "Python 3 (ipykernel)",
   "language": "python",
   "name": "python3"
  },
  "language_info": {
   "codemirror_mode": {
    "name": "ipython",
    "version": 3
   },
   "file_extension": ".py",
   "mimetype": "text/x-python",
   "name": "python",
   "nbconvert_exporter": "python",
   "pygments_lexer": "ipython3",
   "version": "3.12.7"
  }
 },
 "nbformat": 4,
 "nbformat_minor": 5
}
