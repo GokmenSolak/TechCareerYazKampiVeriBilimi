{
 "cells": [
  {
   "cell_type": "markdown",
   "id": "dff24897-491b-45bc-a5cd-d99afadede2a",
   "metadata": {},
   "source": [
    "## Proje - Kitap Satış Analiz Sistemi"
   ]
  },
  {
   "cell_type": "code",
   "execution_count": 17,
   "id": "2792e30b-0a25-496d-9500-aac1bab445bc",
   "metadata": {},
   "outputs": [
    {
     "name": "stdout",
     "output_type": "stream",
     "text": [
      "En çok satan kitap:  {'isim': 'Makine Öğrenmesi', 'yazar': 'Can', 'tur': 'Bilim', 'satis': 1800, 'yil': 2022}\n",
      "Yazarların toplam satışları:  {'Ali': 3400, 'Ayşe': 1550, 'Can': 1800, 'Deniz': 400}\n",
      "Kitap türleri:  {'Bilim', 'Akademik', 'Sosyal', 'Sanat'}\n",
      "1000'den fazla satan kitaplar:  ['Veri Bilimi 101', 'Makine Öğrenmesi', 'Matematiksel Modelleme']\n",
      "Ortalama satış adedi:  1021.4285714285714\n",
      "Satışların standart sapması:  468.9327874905672\n",
      "En çok satış yapan tür:  Bilim\n",
      "Train ortalama: 937.5\n",
      "Test üstünde olanlar: ['Veri Bilimi 101', 'Makine Öğrenmesi']\n"
     ]
    }
   ],
   "source": [
    "import random, statistics\n",
    "\n",
    "kitaplar = [\n",
    "    {\"isim\": \"Veri Bilimi 101\", \"yazar\": \"Ali\", \"tur\": \"Bilim\", \"satis\": 1200, \"yil\": 2021},\n",
    "    {\"isim\": \"Python ile Yapay Zeka\", \"yazar\": \"Ayşe\", \"tur\": \"Bilim\", \"satis\": 950, \"yil\": 2020},\n",
    "    {\"isim\": \"İstatistik Temelleri\", \"yazar\": \"Ali\", \"tur\": \"Akademik\", \"satis\": 700, \"yil\": 2019},\n",
    "    {\"isim\": \"Makine Öğrenmesi\", \"yazar\": \"Can\", \"tur\": \"Bilim\", \"satis\": 1800, \"yil\": 2022},\n",
    "    {\"isim\": \"Veri Görselleştirme\", \"yazar\": \"Deniz\", \"tur\": \"Sanat\", \"satis\": 400, \"yil\": 2018},\n",
    "    {\"isim\": \"Matematiksel Modelleme\", \"yazar\": \"Ali\", \"tur\": \"Akademik\", \"satis\": 1500, \"yil\": 2021},\n",
    "    {\"isim\": \"Bilgi Toplumu\", \"yazar\": \"Ayşe\", \"tur\": \"Sosyal\", \"satis\": 600, \"yil\": 2022}\n",
    "]\n",
    "\n",
    "# 1. Fonksiyon yazma\n",
    "\n",
    "def en_cok_satan(kitaplar):\n",
    "    satis_sayisi = max(kitaplar, key = lambda x: x[\"satis\"])\n",
    "    print(\"En çok satan kitap: \", satis_sayisi)\n",
    "\n",
    "def yazar_satislari(kitaplar):\n",
    "    toplam_satis = dict()\n",
    "\n",
    "    for k in kitaplar:\n",
    "        toplam_satis[k[\"yazar\"]] = toplam_satis.get(k[\"yazar\"],0) + k[\"satis\"]\n",
    "\n",
    "    print(\"Yazarların toplam satışları: \", toplam_satis)\n",
    "\n",
    "en_çok_satan(kitaplar)\n",
    "yazar_satislari(kitaplar)\n",
    "\n",
    "# 2. Liste ve Küme İşlemleri\n",
    "\n",
    "turler = set({k[\"tur\"] for k in kitaplar})\n",
    "fazla_satan = [k[\"isim\"] for k in kitaplar if k[\"satis\"]>1000]\n",
    "\n",
    "print(\"Kitap türleri: \", turler)\n",
    "print(\"1000'den fazla satan kitaplar: \", fazla_satan)\n",
    "\n",
    "# 3. Lambda/Filter/Map kullanımı\n",
    "\n",
    "yil_hesaplama = list(filter(lambda x: x[\"yil\"] > 2020, kitaplar))\n",
    "satis_adet = list(map(lambda x: x[\"satis\"]*1.1, kitaplar))\n",
    "satis_miktari = sorted(kitaplar, key = lambda x: x[\"satis\"], reverse = True)\n",
    "\n",
    "# 4. İstatistiksel Analiz\n",
    "\n",
    "ort_satis_adet = statistics.mean([k[\"satis\"] for k in kitaplar])\n",
    "satis_std = statistics.pstdev([k[\"satis\"] for k in kitaplar])\n",
    "tur_satis = {}\n",
    "for k in kitaplar:\n",
    "    tur_satis[k[\"tur\"]] = tur_satis.get(k[\"tur\"],0)+k[\"satis\"]\n",
    "en_cok_tur = max(tur_satis, key=tur_satis.get)\n",
    "\n",
    "print(\"Ortalama satış adedi: \", ort_satis_adet)\n",
    "print(\"Satışların standart sapması: \", satis_std)\n",
    "print(\"En çok satış yapan tür: \", en_cok_tur)\n",
    "\n",
    "def train_test_split(data, train_ratio=0.7):\n",
    "    train = random.sample(data, int(len(data)*train_ratio))\n",
    "    test = [k for k in data if k not in train]\n",
    "    return train, test\n",
    "\n",
    "def test_ustu_satislar(train, test):\n",
    "    train_avg = statistics.mean([k[\"satis\"] for k in train])\n",
    "    return [k[\"isim\"] for k in test if k[\"satis\"] > train_avg], train_avg\n",
    "\n",
    "train, test = train_test_split(kitaplar, train_ratio=0.7)\n",
    "test_ustunde, train_avg = test_ustu_satislar(train, test)\n",
    "\n",
    "print(\"Train ortalama:\", train_avg)\n",
    "print(\"Test üstünde olanlar:\", test_ustunde)"
   ]
  }
 ],
 "metadata": {
  "kernelspec": {
   "display_name": "Python 3 (ipykernel)",
   "language": "python",
   "name": "python3"
  },
  "language_info": {
   "codemirror_mode": {
    "name": "ipython",
    "version": 3
   },
   "file_extension": ".py",
   "mimetype": "text/x-python",
   "name": "python",
   "nbconvert_exporter": "python",
   "pygments_lexer": "ipython3",
   "version": "3.12.7"
  }
 },
 "nbformat": 4,
 "nbformat_minor": 5
}
