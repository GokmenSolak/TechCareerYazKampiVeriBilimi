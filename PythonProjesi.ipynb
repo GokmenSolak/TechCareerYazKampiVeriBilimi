{
 "cells": [
  {
   "cell_type": "code",
   "execution_count": null,
   "id": "618e443c-8830-4c30-b056-d65a511731d4",
   "metadata": {},
   "outputs": [],
   "source": []
  }
 ],
 "metadata": {
  "kernelspec": {
   "display_name": "",
   "name": ""
  },
  "language_info": {
   "name": ""
  }
 },
 "nbformat": 4,
 "nbformat_minor": 5
}
